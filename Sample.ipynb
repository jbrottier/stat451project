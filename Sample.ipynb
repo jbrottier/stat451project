{
 "cells": [
  {
   "cell_type": "code",
   "execution_count": 1,
   "metadata": {},
   "outputs": [],
   "source": [
    "# Current Feedback\n",
    "\n",
    "# Question is good, try to tell the story behind it by addressing which features are most important, what should the patient know, and how does the patient decrease probability of being sick\n",
    "\n",
    "# Address imbalanced classifications by using Random Over/Under Sampling after the train test split\n",
    "\n",
    "# Provide the probability that y=1 if imbalanced (Probability the tumor is bad/normal before model evaluation)\n",
    "\n",
    "# Explain the differences between Recall and Precision in this testing scenario and provide a model that favors each"
   ]
  },
  {
   "cell_type": "code",
   "execution_count": 2,
   "metadata": {},
   "outputs": [],
   "source": [
    "# To Do List\n",
    "\n",
    "# Provide the Recall and Precision for each of the models below\n",
    "\n",
    "# Select a model that favors Recall and report on it\n",
    "\n",
    "# Select a model that favors Precision and report on it\n",
    "\n",
    "# Running our selected \"best\" model against the test data to get overall results\n",
    "\n",
    "# Create more \"cool\" graphs to show confusion matrices, charts for precision and recall, etc ...\n",
    "\n",
    "# Adjust the presentation based on the updated code"
   ]
  },
  {
   "cell_type": "code",
   "execution_count": 3,
   "metadata": {},
   "outputs": [
    {
     "name": "stdout",
     "output_type": "stream",
     "text": [
      "Requirement already satisfied: imbalanced-learn in c:\\users\\aaron\\anaconda3\\lib\\site-packages (0.12.4)\n",
      "Requirement already satisfied: scikit-learn>=1.0.2 in c:\\users\\aaron\\anaconda3\\lib\\site-packages (from imbalanced-learn) (1.3.2)\n",
      "Requirement already satisfied: threadpoolctl>=2.0.0 in c:\\users\\aaron\\anaconda3\\lib\\site-packages (from imbalanced-learn) (3.5.0)\n",
      "Requirement already satisfied: joblib>=1.1.1 in c:\\users\\aaron\\anaconda3\\lib\\site-packages (from imbalanced-learn) (1.4.2)\n",
      "Requirement already satisfied: numpy>=1.17.3 in c:\\users\\aaron\\anaconda3\\lib\\site-packages (from imbalanced-learn) (1.22.4)\n",
      "Requirement already satisfied: scipy>=1.5.0 in c:\\users\\aaron\\anaconda3\\lib\\site-packages (from imbalanced-learn) (1.6.2)\n",
      "Note: you may need to restart the kernel to use updated packages.\n"
     ]
    }
   ],
   "source": [
    "pip install imbalanced-learn"
   ]
  },
  {
   "cell_type": "code",
   "execution_count": 4,
   "metadata": {},
   "outputs": [],
   "source": [
    "# Importing necessary libraries\n",
    "import pandas as pd\n",
    "from sklearn.linear_model import LogisticRegression\n",
    "from sklearn.tree import DecisionTreeClassifier\n",
    "from sklearn.neighbors import KNeighborsClassifier\n",
    "from sklearn.preprocessing import StandardScaler\n",
    "from sklearn.ensemble import RandomForestClassifier\n",
    "from sklearn.model_selection import GridSearchCV\n",
    "from sklearn.svm import SVC\n",
    "from sklearn.ensemble import GradientBoostingClassifier\n",
    "from sklearn.model_selection import train_test_split\n",
    "from sklearn.metrics import accuracy_score\n",
    "from sklearn.model_selection import cross_val_score\n",
    "import numpy as np\n",
    "from sklearn.metrics import accuracy_score, roc_auc_score, roc_curve\n",
    "import matplotlib.pyplot as plt\n",
    "import seaborn as sns\n",
    "from imblearn.over_sampling import RandomOverSampler\n",
    "from imblearn.under_sampling import RandomUnderSampler\n",
    "from sklearn.metrics import precision_score, recall_score, roc_auc_score, accuracy_score"
   ]
  },
  {
   "cell_type": "code",
   "execution_count": 5,
   "metadata": {},
   "outputs": [
    {
     "name": "stdout",
     "output_type": "stream",
     "text": [
      "There are 0 rows with missing data\n"
     ]
    },
    {
     "data": {
      "text/html": [
       "<div>\n",
       "<style scoped>\n",
       "    .dataframe tbody tr th:only-of-type {\n",
       "        vertical-align: middle;\n",
       "    }\n",
       "\n",
       "    .dataframe tbody tr th {\n",
       "        vertical-align: top;\n",
       "    }\n",
       "\n",
       "    .dataframe thead th {\n",
       "        text-align: right;\n",
       "    }\n",
       "</style>\n",
       "<table border=\"1\" class=\"dataframe\">\n",
       "  <thead>\n",
       "    <tr style=\"text-align: right;\">\n",
       "      <th></th>\n",
       "      <th>ID</th>\n",
       "      <th>Diagnosis</th>\n",
       "      <th>mean_radius</th>\n",
       "      <th>mean_texture</th>\n",
       "      <th>mean_perimeter</th>\n",
       "      <th>mean_area</th>\n",
       "      <th>mean_smoothness</th>\n",
       "      <th>mean_compactness</th>\n",
       "      <th>mean_concavity</th>\n",
       "      <th>mean_concave_points</th>\n",
       "      <th>...</th>\n",
       "      <th>largest_radius</th>\n",
       "      <th>largest_texture</th>\n",
       "      <th>largest_perimeter</th>\n",
       "      <th>largest_area</th>\n",
       "      <th>largest_smoothness</th>\n",
       "      <th>largest_compactness</th>\n",
       "      <th>largest_concavity</th>\n",
       "      <th>largest_concave_points</th>\n",
       "      <th>largest_symmetry</th>\n",
       "      <th>largest_fractal_dimension</th>\n",
       "    </tr>\n",
       "  </thead>\n",
       "  <tbody>\n",
       "    <tr>\n",
       "      <th>0</th>\n",
       "      <td>842302</td>\n",
       "      <td>1</td>\n",
       "      <td>17.99</td>\n",
       "      <td>10.38</td>\n",
       "      <td>122.80</td>\n",
       "      <td>1001.0</td>\n",
       "      <td>0.11840</td>\n",
       "      <td>0.27760</td>\n",
       "      <td>0.3001</td>\n",
       "      <td>0.14710</td>\n",
       "      <td>...</td>\n",
       "      <td>25.38</td>\n",
       "      <td>17.33</td>\n",
       "      <td>184.60</td>\n",
       "      <td>2019.0</td>\n",
       "      <td>0.1622</td>\n",
       "      <td>0.6656</td>\n",
       "      <td>0.7119</td>\n",
       "      <td>0.2654</td>\n",
       "      <td>0.4601</td>\n",
       "      <td>0.11890</td>\n",
       "    </tr>\n",
       "    <tr>\n",
       "      <th>1</th>\n",
       "      <td>842517</td>\n",
       "      <td>1</td>\n",
       "      <td>20.57</td>\n",
       "      <td>17.77</td>\n",
       "      <td>132.90</td>\n",
       "      <td>1326.0</td>\n",
       "      <td>0.08474</td>\n",
       "      <td>0.07864</td>\n",
       "      <td>0.0869</td>\n",
       "      <td>0.07017</td>\n",
       "      <td>...</td>\n",
       "      <td>24.99</td>\n",
       "      <td>23.41</td>\n",
       "      <td>158.80</td>\n",
       "      <td>1956.0</td>\n",
       "      <td>0.1238</td>\n",
       "      <td>0.1866</td>\n",
       "      <td>0.2416</td>\n",
       "      <td>0.1860</td>\n",
       "      <td>0.2750</td>\n",
       "      <td>0.08902</td>\n",
       "    </tr>\n",
       "    <tr>\n",
       "      <th>2</th>\n",
       "      <td>84300903</td>\n",
       "      <td>1</td>\n",
       "      <td>19.69</td>\n",
       "      <td>21.25</td>\n",
       "      <td>130.00</td>\n",
       "      <td>1203.0</td>\n",
       "      <td>0.10960</td>\n",
       "      <td>0.15990</td>\n",
       "      <td>0.1974</td>\n",
       "      <td>0.12790</td>\n",
       "      <td>...</td>\n",
       "      <td>23.57</td>\n",
       "      <td>25.53</td>\n",
       "      <td>152.50</td>\n",
       "      <td>1709.0</td>\n",
       "      <td>0.1444</td>\n",
       "      <td>0.4245</td>\n",
       "      <td>0.4504</td>\n",
       "      <td>0.2430</td>\n",
       "      <td>0.3613</td>\n",
       "      <td>0.08758</td>\n",
       "    </tr>\n",
       "    <tr>\n",
       "      <th>3</th>\n",
       "      <td>84348301</td>\n",
       "      <td>1</td>\n",
       "      <td>11.42</td>\n",
       "      <td>20.38</td>\n",
       "      <td>77.58</td>\n",
       "      <td>386.1</td>\n",
       "      <td>0.14250</td>\n",
       "      <td>0.28390</td>\n",
       "      <td>0.2414</td>\n",
       "      <td>0.10520</td>\n",
       "      <td>...</td>\n",
       "      <td>14.91</td>\n",
       "      <td>26.50</td>\n",
       "      <td>98.87</td>\n",
       "      <td>567.7</td>\n",
       "      <td>0.2098</td>\n",
       "      <td>0.8663</td>\n",
       "      <td>0.6869</td>\n",
       "      <td>0.2575</td>\n",
       "      <td>0.6638</td>\n",
       "      <td>0.17300</td>\n",
       "    </tr>\n",
       "    <tr>\n",
       "      <th>4</th>\n",
       "      <td>84358402</td>\n",
       "      <td>1</td>\n",
       "      <td>20.29</td>\n",
       "      <td>14.34</td>\n",
       "      <td>135.10</td>\n",
       "      <td>1297.0</td>\n",
       "      <td>0.10030</td>\n",
       "      <td>0.13280</td>\n",
       "      <td>0.1980</td>\n",
       "      <td>0.10430</td>\n",
       "      <td>...</td>\n",
       "      <td>22.54</td>\n",
       "      <td>16.67</td>\n",
       "      <td>152.20</td>\n",
       "      <td>1575.0</td>\n",
       "      <td>0.1374</td>\n",
       "      <td>0.2050</td>\n",
       "      <td>0.4000</td>\n",
       "      <td>0.1625</td>\n",
       "      <td>0.2364</td>\n",
       "      <td>0.07678</td>\n",
       "    </tr>\n",
       "  </tbody>\n",
       "</table>\n",
       "<p>5 rows × 32 columns</p>\n",
       "</div>"
      ],
      "text/plain": [
       "         ID  Diagnosis  mean_radius  mean_texture  mean_perimeter  mean_area  \\\n",
       "0    842302          1        17.99         10.38          122.80     1001.0   \n",
       "1    842517          1        20.57         17.77          132.90     1326.0   \n",
       "2  84300903          1        19.69         21.25          130.00     1203.0   \n",
       "3  84348301          1        11.42         20.38           77.58      386.1   \n",
       "4  84358402          1        20.29         14.34          135.10     1297.0   \n",
       "\n",
       "   mean_smoothness  mean_compactness  mean_concavity  mean_concave_points  \\\n",
       "0          0.11840           0.27760          0.3001              0.14710   \n",
       "1          0.08474           0.07864          0.0869              0.07017   \n",
       "2          0.10960           0.15990          0.1974              0.12790   \n",
       "3          0.14250           0.28390          0.2414              0.10520   \n",
       "4          0.10030           0.13280          0.1980              0.10430   \n",
       "\n",
       "   ...  largest_radius  largest_texture  largest_perimeter  largest_area  \\\n",
       "0  ...           25.38            17.33             184.60        2019.0   \n",
       "1  ...           24.99            23.41             158.80        1956.0   \n",
       "2  ...           23.57            25.53             152.50        1709.0   \n",
       "3  ...           14.91            26.50              98.87         567.7   \n",
       "4  ...           22.54            16.67             152.20        1575.0   \n",
       "\n",
       "   largest_smoothness  largest_compactness  largest_concavity  \\\n",
       "0              0.1622               0.6656             0.7119   \n",
       "1              0.1238               0.1866             0.2416   \n",
       "2              0.1444               0.4245             0.4504   \n",
       "3              0.2098               0.8663             0.6869   \n",
       "4              0.1374               0.2050             0.4000   \n",
       "\n",
       "   largest_concave_points  largest_symmetry  largest_fractal_dimension  \n",
       "0                  0.2654            0.4601                    0.11890  \n",
       "1                  0.1860            0.2750                    0.08902  \n",
       "2                  0.2430            0.3613                    0.08758  \n",
       "3                  0.2575            0.6638                    0.17300  \n",
       "4                  0.1625            0.2364                    0.07678  \n",
       "\n",
       "[5 rows x 32 columns]"
      ]
     },
     "execution_count": 5,
     "metadata": {},
     "output_type": "execute_result"
    }
   ],
   "source": [
    "# Reading the data and adding column names\n",
    "columns = [\n",
    "    'ID', 'Diagnosis', \n",
    "    'mean_radius', 'mean_texture', 'mean_perimeter', 'mean_area', 'mean_smoothness', \n",
    "    'mean_compactness', 'mean_concavity', 'mean_concave_points', 'mean_symmetry', 'mean_fractal_dimension',\n",
    "    'se_radius', 'se_texture', 'se_perimeter', 'se_area', 'se_smoothness', \n",
    "    'se_compactness', 'se_concavity', 'se_concave_points', 'se_symmetry', 'se_fractal_dimension',\n",
    "    'largest_radius', 'largest_texture', 'largest_perimeter', 'largest_area', 'largest_smoothness', \n",
    "    'largest_compactness', 'largest_concavity', 'largest_concave_points', 'largest_symmetry', 'largest_fractal_dimension'\n",
    "]\n",
    "df = pd.read_csv('wdbc.data', names = columns)\n",
    "\n",
    "# Changing the Diagnosis to 0s and 1s for readability\n",
    "df['Diagnosis'] = df['Diagnosis'].map({'M': 1, 'B': 0})\n",
    "\n",
    "# Checking to see if there is any missing data\n",
    "print(f'There are {len(df[df.isna().any(axis=1)])} rows with missing data')\n",
    "\n",
    "# Printing the top of the dataframe\n",
    "df.head()"
   ]
  },
  {
   "cell_type": "code",
   "execution_count": 6,
   "metadata": {},
   "outputs": [
    {
     "data": {
      "image/png": "[encoded data removed]",
      "text/plain": [
       "<Figure size 432x288 with 2 Axes>"
      ]
     },
     "metadata": {
      "needs_background": "light"
     },
     "output_type": "display_data"
    }
   ],
   "source": [
    "# Test for multicolinearity\n",
    "selected_features = ['mean_concave_points', 'largest_radius', 'largest_texture', 'largest_concave_points']\n",
    "\n",
    "corr_matrix = df[selected_features].corr()\n",
    "sns.heatmap(corr_matrix, annot=True, cmap='coolwarm')\n",
    "plt.xticks(rotation=45, ha='right')\n",
    "plt.title(\"Correlation Matrix of Selected Features\")\n",
    "plt.show()"
   ]
  },
  {
   "cell_type": "code",
   "execution_count": 7,
   "metadata": {},
   "outputs": [],
   "source": [
    "# Creating the X and y variables\n",
    "X = df.drop(columns=['Diagnosis', 'ID'])\n",
    "y = df['Diagnosis']\n",
    "\n",
    "# Creating a train, validation, and test dataset\n",
    "X_train, X_temp, y_train, y_temp = train_test_split(X, y, test_size=0.2)\n",
    "X_val, X_test, y_val, y_test = train_test_split(X_temp, y_temp, test_size=0.5)\n",
    "\n",
    "# Standardizing the features\n",
    "scaler = StandardScaler()\n",
    "X_train_scaled = scaler.fit_transform(X_train)\n",
    "X_val_scaled = scaler.transform(X_val)\n",
    "X_test_scaled = scaler.transform(X_test)"
   ]
  },
  {
   "cell_type": "code",
   "execution_count": 8,
   "metadata": {},
   "outputs": [
    {
     "name": "stdout",
     "output_type": "stream",
     "text": [
      "\n",
      "Resampled training set distribution:\n",
      " 0    285\n",
      "1    285\n",
      "Name: Diagnosis, dtype: int64\n"
     ]
    },
    {
     "data": {
      "image/png": "[encoded data removed]",
      "text/plain": [
       "<Figure size 432x288 with 1 Axes>"
      ]
     },
     "metadata": {
      "needs_background": "light"
     },
     "output_type": "display_data"
    },
    {
     "data": {
      "image/png": "[encoded data removed]",
      "text/plain": [
       "<Figure size 432x288 with 1 Axes>"
      ]
     },
     "metadata": {
      "needs_background": "light"
     },
     "output_type": "display_data"
    }
   ],
   "source": [
    "# Choose OverSampler or UnderSampler (OverSampler tends to work better for small datasets)\n",
    "ros = RandomOverSampler(random_state=42)\n",
    "# rus = RandomUnderSampler(random_state=42)\n",
    "\n",
    "X_resampled, y_resampled = ros.fit_resample(X_train, y_train)\n",
    "X_resampled_scaled = scaler.fit_transform(X_resampled)\n",
    "\n",
    "# Confirm the new balance\n",
    "print(\"\\nResampled training set distribution:\\n\", y_resampled.value_counts())\n",
    "\n",
    "sns.countplot(x=y, hue=y, palette='pastel')\n",
    "plt.title('Original Class Distribution')\n",
    "plt.show()\n",
    "\n",
    "sns.countplot(x=y_resampled, hue=y_resampled, palette='pastel')\n",
    "plt.title('Resampled Training Set Distribution')\n",
    "plt.show()"
   ]
  },
  {
   "cell_type": "code",
   "execution_count": 17,
   "metadata": {},
   "outputs": [
    {
     "name": "stdout",
     "output_type": "stream",
     "text": [
      "Selected features: Index(['mean_concave_points', 'largest_radius', 'largest_texture',\n",
      "       'largest_concave_points', 'largest_symmetry'],\n",
      "      dtype='object')\n",
      "Accuracy (Validation) - Lasso: 0.9474\n",
      "AUC score (validation) - Lasso: 0.9986\n",
      "Precision score (Validation) - Lasso: 0.9348\n",
      "Recall (Validation) - Lasso: 0.9595\n"
     ]
    }
   ],
   "source": [
    "# Creating the logistic regression model with LASSO\n",
    "lasso_model = LogisticRegression(random_state=42, penalty='l1', solver='saga', C=0.05, max_iter=10000) # C doesn't have to be used but reduces the amount of features selected\n",
    "lasso_model.fit(X_resampled_scaled, y_resampled)\n",
    "\n",
    "# Showing the coefficients\n",
    "cfs = lasso_model.coef_[0]\n",
    "sf = X.columns[cfs != 0]\n",
    "print(\"Selected features:\", sf)\n",
    "\n",
    "# Predict probabilities for the positive class\n",
    "y_pred_prob_l = lasso_model.predict_proba(X_val_scaled)[:, 1]\n",
    "y_pred_l = lasso_model.predict(X_val_scaled)\n",
    "\n",
    "# Calculate Accuracy\n",
    "l_acc = accuracy_score(y_val, y_pred_l)\n",
    "print(f\"Accuracy (Validation) - Lasso: {l_acc:.4f}\")\n",
    "\n",
    "# Calculate AUC score\n",
    "l_auc = roc_auc_score(y_val, y_pred_prob_l)\n",
    "print(f\"AUC score (validation) - Lasso: {l_auc:.4f}\")\n",
    "\n",
    "#Calculate Precision\n",
    "l_pre = precision_score(y_val, y_pred_l, average='macro')\n",
    "print(f\"Precision score (Validation) - Lasso: {l_pre:.4f}\")\n",
    "\n",
    "#Calculate Recall\n",
    "l_rcl = recall_score(y_val, y_pred_l, average='macro')\n",
    "print(f\"Recall (Validation) - Lasso: {l_rcl:.4f}\")\n"
   ]
  },
  {
   "cell_type": "code",
   "execution_count": 10,
   "metadata": {},
   "outputs": [
    {
     "name": "stdout",
     "output_type": "stream",
     "text": [
      "Accuracy (Validation) - Ridge: 0.9649\n",
      "AUC score (validation) - Ridge: 1.0000\n",
      "Precision score (Validation) - Ridge: 0.9545\n",
      "Recall (Validation) - Ridge: 0.9730\n"
     ]
    }
   ],
   "source": [
    "# Creating the logistic regression model with RIDGE\n",
    "ridge_model = LogisticRegression(random_state=42, penalty='l2', solver='saga', C=0.05, max_iter=10000)\n",
    "ridge_model.fit(X_resampled_scaled, y_resampled)\n",
    "\n",
    "# Predict probabilities for the positive class\n",
    "y_pred_prob_r = ridge_model.predict_proba(X_val_scaled)[:, 1]\n",
    "y_pred_r = ridge_model.predict(X_val_scaled)\n",
    "\n",
    "# Calculate Accuracy\n",
    "r_acc = accuracy_score(y_val, y_pred_r)\n",
    "print(f\"Accuracy (Validation) - Ridge: {r_acc:.4f}\")\n",
    "\n",
    "# Calculate AUC score\n",
    "r_auc = roc_auc_score(y_val, y_pred_prob_r)\n",
    "print(f\"AUC score (validation) - Ridge: {r_auc:.4f}\")\n",
    "\n",
    "#Calculate Precision\n",
    "r_pre = precision_score(y_val, y_pred_r, average='macro')\n",
    "print(f\"Precision score (Validation) - Ridge: {r_pre:.4f}\")\n",
    "\n",
    "#Calculate Recall\n",
    "r_rcl = recall_score(y_val, y_pred_r, average='macro')\n",
    "print(f\"Recall (Validation) - Ridge: {r_rcl:.4f}\")"
   ]
  },
  {
   "cell_type": "code",
   "execution_count": 11,
   "metadata": {},
   "outputs": [
    {
     "name": "stdout",
     "output_type": "stream",
     "text": [
      "Best max_depth: 5\n",
      "Recall (Validation) - Best Decision Tree: 0.9595\n",
      "Precision score (Validation) - Best Decision Tree: 0.9348\n",
      "Accuracy (Validation) - Best Decision Tree: 0.9474\n",
      "AUC score (Validation) - Best Decision Tree: 0.9730\n"
     ]
    }
   ],
   "source": [
    "# Training Decision Tree Model using a Grid Search\n",
    "tree_model = DecisionTreeClassifier(random_state=42)\n",
    "md = {'max_depth': range(1, 16)}\n",
    "\n",
    "# Doing Search with Cross Validation\n",
    "grid_search = GridSearchCV(estimator=tree_model, param_grid=md, cv=5, scoring='accuracy')\n",
    "\n",
    "# Fit the model and best parameters\n",
    "grid_search.fit(X_resampled_scaled, y_resampled)\n",
    "best_md = grid_search.best_params_['max_depth']\n",
    "best_model = grid_search.best_estimator_\n",
    "print(f\"Best max_depth: {best_md}\")\n",
    "\n",
    "# Make Predictions\n",
    "y_pred_t = best_model.predict(X_val_scaled)\n",
    "y_pred_prob_t = best_model.predict_proba(X_val_scaled)[:, 1]\n",
    "\n",
    "# Evaluate\n",
    "t_accuracy = accuracy_score(y_val, y_pred_t)\n",
    "t_auc = roc_auc_score(y_val, y_pred_prob_t)\n",
    "t_pre = precision_score(y_val, y_pred_t, average='macro')\n",
    "t_rcl = recall_score(y_val, y_pred_t, average='macro')\n",
    "\n",
    "print(f\"Recall (Validation) - Best Decision Tree: {t_rcl:.4f}\")\n",
    "print(f\"Precision score (Validation) - Best Decision Tree: {t_pre:.4f}\")\n",
    "print(f\"Accuracy (Validation) - Best Decision Tree: {t_accuracy:.4f}\")\n",
    "print(f\"AUC score (Validation) - Best Decision Tree: {t_auc:.4f}\")"
   ]
  },
  {
   "cell_type": "code",
   "execution_count": 12,
   "metadata": {},
   "outputs": [
    {
     "name": "stdout",
     "output_type": "stream",
     "text": [
      "Best number of neighbors found: 8\n",
      "Recall (Validation) - Best kNN: 0.9730\n",
      "Precision score (Validation) - Best kNN: 0.9545\n",
      "Accuracy (Validation) - Best kNN: 0.9649\n",
      "AUC score (Validation) - Best kNN: 1.0000\n"
     ]
    }
   ],
   "source": [
    "# Training K-NN using a grid search\n",
    "knn_model = KNeighborsClassifier()\n",
    "nn = {'n_neighbors': range(2, 21)}\n",
    "\n",
    "# Doing Grid Search with Cross Validation\n",
    "grid_search_knn = GridSearchCV(estimator=knn_model, param_grid=nn, cv=5, scoring='accuracy')\n",
    "\n",
    "# Fit the model and get best parameters\n",
    "grid_search_knn.fit(X_resampled_scaled, y_resampled)\n",
    "best_nn = grid_search_knn.best_params_['n_neighbors']\n",
    "best_knn_model = grid_search_knn.best_estimator_\n",
    "print(f\"Best number of neighbors found: {best_nn}\")\n",
    "\n",
    "# Predict with the best model\n",
    "y_pred_knn = best_knn_model.predict(X_val_scaled)\n",
    "y_pred_prob_knn = best_knn_model.predict_proba(X_val_scaled)[:, 1]\n",
    "\n",
    "# Evaluate\n",
    "knn_acc = accuracy_score(y_val, y_pred_knn)\n",
    "knn_auc = roc_auc_score(y_val, y_pred_prob_knn)\n",
    "knn_pre = precision_score(y_val, y_pred_knn, average='macro')\n",
    "knn_rcl = recall_score(y_val, y_pred_knn, average='macro')\n",
    "\n",
    "print(f\"Recall (Validation) - Best kNN: {knn_rcl:.4f}\")\n",
    "print(f\"Precision score (Validation) - Best kNN: {knn_pre:.4f}\")\n",
    "print(f\"Accuracy (Validation) - Best kNN: {knn_acc:.4f}\")\n",
    "print(f\"AUC score (Validation) - Best kNN: {knn_auc:.4f}\")"
   ]
  },
  {
   "cell_type": "code",
   "execution_count": 13,
   "metadata": {},
   "outputs": [
    {
     "name": "stdout",
     "output_type": "stream",
     "text": [
      "Best number of estimators found: 250\n",
      "Recall (Validation) - Best Random Forest: 0.9730\n",
      "Precision score (Validation) - Best Random Forest: 0.9545\n",
      "Accuracy (Validation) - Best Random Forest: 0.9649\n",
      "AUC score (Validation) - Best Random Forest: 1.0000\n"
     ]
    }
   ],
   "source": [
    "# Creating the forest model using grid search\n",
    "rf_model = RandomForestClassifier(random_state=42)\n",
    "ne = {'n_estimators': [50, 100, 150, 200, 250, 300]}\n",
    "\n",
    "# Doing Grid Search with Cross Validation\n",
    "grid_search_rf = GridSearchCV(estimator=rf_model, param_grid=ne, cv=5, scoring='accuracy')\n",
    "\n",
    "# Fit the model and get best parameters\n",
    "grid_search_rf.fit(X_resampled_scaled, y_resampled)\n",
    "best_ne = grid_search_rf.best_params_['n_estimators']\n",
    "best_rf_model = grid_search_rf.best_estimator_\n",
    "print(f\"Best number of estimators found: {best_ne}\")\n",
    "\n",
    "# Predict\n",
    "y_pred_rf = best_rf_model.predict(X_val_scaled)\n",
    "y_pred_prob_rf = best_rf_model.predict_proba(X_val_scaled)[:, 1]\n",
    "\n",
    "# Evaluate\n",
    "rf_acc = accuracy_score(y_val, y_pred_rf)\n",
    "rf_auc = roc_auc_score(y_val, y_pred_prob_rf)\n",
    "rf_pre = precision_score(y_val, y_pred_rf, average='macro')\n",
    "rf_rcl = recall_score(y_val, y_pred_rf, average='macro')\n",
    "\n",
    "print(f\"Recall (Validation) - Best Random Forest: {rf_rcl:.4f}\")\n",
    "print(f\"Precision score (Validation) - Best Random Forest: {rf_pre:.4f}\")\n",
    "print(f\"Accuracy (Validation) - Best Random Forest: {rf_acc:.4f}\")\n",
    "print(f\"AUC score (Validation) - Best Random Forest: {rf_auc:.4f}\")"
   ]
  },
  {
   "cell_type": "code",
   "execution_count": 14,
   "metadata": {},
   "outputs": [
    {
     "name": "stdout",
     "output_type": "stream",
     "text": [
      "Best SVM Parameters found: {'C': 10, 'gamma': 'scale', 'kernel': 'linear'}\n",
      "Recall (Validation) - Best SVM: 0.9595\n",
      "Precision score (Validation) - Best SVM: 0.9348\n",
      "Accuracy (Validation) - Best SVM: 0.9474\n",
      "AUC score (Validation) - Best SVM: 0.9959\n"
     ]
    }
   ],
   "source": [
    "# Creating the SVM model\n",
    "svm_model = SVC(random_state=42, probability=True)\n",
    "grid_svm = {\n",
    "    'C': [0.1, 1, 10, 100],\n",
    "    'kernel': ['linear', 'poly', 'rbf', 'sigmoid'],\n",
    "    'gamma': ['scale', 'auto']\n",
    "}\n",
    "\n",
    "# Doing Grid Search with Cross Validation\n",
    "grid_search_svm = GridSearchCV(estimator=svm_model, param_grid=grid_svm, cv=5, scoring='accuracy')\n",
    "\n",
    "# Fitting the model and getting parameters\n",
    "grid_search_svm.fit(X_resampled_scaled, y_resampled)\n",
    "best_svm_params = grid_search_svm.best_params_\n",
    "best_svm_model = grid_search_svm.best_estimator_\n",
    "print(f\"Best SVM Parameters found: {best_svm_params}\")\n",
    "\n",
    "# Predicting\n",
    "y_pred_svm = best_svm_model.predict(X_val_scaled)\n",
    "y_pred_prob_svm = best_svm_model.predict_proba(X_val_scaled)[:, 1]\n",
    "\n",
    "# Evaluating\n",
    "svm_acc = accuracy_score(y_val, y_pred_svm)\n",
    "svm_auc = roc_auc_score(y_val, y_pred_prob_svm)\n",
    "svm_pre = precision_score(y_val, y_pred_svm, average='macro')\n",
    "svm_rcl = recall_score(y_val, y_pred_svm, average='macro')\n",
    "\n",
    "print(f\"Recall (Validation) - Best SVM: {svm_rcl:.4f}\")\n",
    "print(f\"Precision score (Validation) - Best SVM: {svm_pre:.4f}\")\n",
    "print(f\"Accuracy (Validation) - Best SVM: {svm_acc:.4f}\")\n",
    "print(f\"AUC score (Validation) - Best SVM: {svm_auc:.4f}\")\n"
   ]
  },
  {
   "cell_type": "code",
   "execution_count": 15,
   "metadata": {},
   "outputs": [
    {
     "name": "stdout",
     "output_type": "stream",
     "text": [
      "Fitting 5 folds for each of 64 candidates, totalling 320 fits\n",
      "Best Gradient Boosting Parameters found: {'learning_rate': 0.2, 'max_depth': 3, 'n_estimators': 100}\n",
      "Recall (Validation) - Best Gradient Boosting: 0.9595\n",
      "Accuracy (Validation) - Best Gradient Boosting: 0.9474\n",
      "AUC score (Validation) - Best Gradient Boosting: 1.0000\n",
      "Precision Score (Validation) - Best Gradient Boosting: 0.9348\n"
     ]
    }
   ],
   "source": [
    "# Create the Gradient Boosting model\n",
    "gb_model = GradientBoostingClassifier(random_state=42)\n",
    "# CHANGE THIS TO ONLY INCLUDE WHAT WAS FROM LECTURE\n",
    "param_grid_gb = {\n",
    "    'n_estimators': [50, 100, 150, 200],\n",
    "    'learning_rate': [0.01, 0.05, 0.1, 0.2],\n",
    "    'max_depth': [3, 5, 7, 10]#,\n",
    "    #'subsample': [0.8, 0.9, 1.0],\n",
    "    #'min_samples_split': [2, 5, 10]\n",
    "}\n",
    "\n",
    "# Perform Grid Search with Cross Validation\n",
    "grid_search_gb = GridSearchCV(estimator=gb_model, param_grid=param_grid_gb, cv=5, scoring='accuracy', verbose = 1) # Added verbose to show combinations\n",
    "\n",
    "# Fit the model with grid search and get parameters\n",
    "grid_search_gb.fit(X_resampled_scaled, y_resampled)\n",
    "best_gb_params = grid_search_gb.best_params_\n",
    "best_gb_model = grid_search_gb.best_estimator_\n",
    "print(f\"Best Gradient Boosting Parameters found: {best_gb_params}\")\n",
    "\n",
    "# Predicting\n",
    "y_pred_gb = best_gb_model.predict(X_val_scaled)\n",
    "y_pred_prob_gb = best_gb_model.predict_proba(X_val_scaled)[:, 1]\n",
    "\n",
    "# Evaluating\n",
    "gb_acc = accuracy_score(y_val, y_pred_gb)\n",
    "\n",
    "gb_auc = roc_auc_score(y_val, y_pred_prob_gb)\n",
    "\n",
    "gb_pre = precision_score(y_val, y_pred_gb, average='macro')\n",
    "\n",
    "gb_rcl = recall_score(y_val, y_pred_gb, average='macro')\n",
    "\n",
    "print(f\"Recall (Validation) - Best Gradient Boosting: {gb_rcl:.4f}\")\n",
    "print(f\"Accuracy (Validation) - Best Gradient Boosting: {gb_acc:.4f}\")\n",
    "print(f\"AUC score (Validation) - Best Gradient Boosting: {gb_auc:.4f}\")\n",
    "print(f\"Precision Score (Validation) - Best Gradient Boosting: {gb_pre:.4f}\")"
   ]
  },
  {
   "cell_type": "code",
   "execution_count": 27,
   "metadata": {},
   "outputs": [
    {
     "data": {
      "image/png": "[encoded data removed]",
      "text/plain": [
       "<Figure size 864x432 with 1 Axes>"
      ]
     },
     "metadata": {
      "needs_background": "light"
     },
     "output_type": "display_data"
    },
    {
     "data": {
      "image/png": "[encoded data removed]",
      "text/plain": [
       "<Figure size 432x288 with 1 Axes>"
      ]
     },
     "metadata": {
      "needs_background": "light"
     },
     "output_type": "display_data"
    },
    {
     "data": {
      "image/png": "[encoded data removed]",
      "text/plain": [
       "<Figure size 432x288 with 1 Axes>"
      ]
     },
     "metadata": {
      "needs_background": "light"
     },
     "output_type": "display_data"
    },
    {
     "data": {
      "image/png": "[encoded data removed]",
      "text/plain": [
       "<Figure size 432x288 with 1 Axes>"
      ]
     },
     "metadata": {
      "needs_background": "light"
     },
     "output_type": "display_data"
    }
   ],
   "source": [
    "# Showing the Scores for all the models\n",
    "models = [\"Lasso\", \"Ridge\", \"Decision Tree\", \"kNN\", \"Random Forest\", \"SVM\", \"Gradient Boosting\"]\n",
    "all_acc = [l_acc, r_acc, t_accuracy, knn_acc, rf_acc, svm_acc, gb_acc]\n",
    "all_auc = [l_auc, r_auc, t_auc, knn_auc, rf_auc, svm_auc, gb_auc]\n",
    "all_pre = [l_pre, r_pre, t_pre, knn_pre, rf_pre, svm_pre, gb_pre]\n",
    "all_rcl = [l_rcl, r_rcl, t_rcl, knn_rcl, rf_rcl, svm_rcl, gb_rcl]\n",
    "# Creating the Plots\n",
    "x = np.arange(len(models))\n",
    "plt.figure(figsize=(12, 6))\n",
    "\n",
    "# Accuracy\n",
    "plt.plot(1, 4, 1)  \n",
    "plt.bar(x, all_acc, color='skyblue')\n",
    "plt.xticks(x, models, rotation=45)\n",
    "plt.ylabel('Accuracy')\n",
    "plt.title('Accuracy for Different Models')\n",
    "plt.ylim(0.85, 1)\n",
    "plt.tight_layout()\n",
    "plt.show()\n",
    "\n",
    "# AUC\n",
    "plt.plot(1, 4, 1)\n",
    "plt.bar(x, all_auc, color='salmon')\n",
    "plt.xticks(x, models, rotation=45)\n",
    "plt.ylabel('AUC Score')\n",
    "plt.title('AUC Score for Different Models')\n",
    "plt.ylim(0.85, 1)\n",
    "plt.tight_layout()\n",
    "plt.show()\n",
    "\n",
    "# Precision\n",
    "plt.plot(1, 4, 3)\n",
    "plt.bar(x, all_pre, color='lime')\n",
    "plt.xticks(x, models, rotation=45)\n",
    "plt.ylabel('Precision Score')\n",
    "plt.title('Precision for Different Models')\n",
    "plt.ylim(0.85, 1)\n",
    "\n",
    "plt.tight_layout()\n",
    "plt.show()\n",
    "\n",
    "# Recall\n",
    "plt.plot(1, 4, 4)\n",
    "plt.bar(x, all_rcl, color='red')\n",
    "plt.xticks(x, models, rotation=45)\n",
    "plt.ylabel('Recall Score')\n",
    "plt.title('Recall for Different Models')\n",
    "plt.ylim(0.85, 1)\n",
    "\n",
    "\n",
    "plt.tight_layout()\n",
    "plt.show()"
   ]
  },
  {
   "cell_type": "code",
   "execution_count": null,
   "metadata": {},
   "outputs": [],
   "source": []
  },
  {
   "cell_type": "code",
   "execution_count": null,
   "metadata": {},
   "outputs": [],
   "source": []
  },
  {
   "cell_type": "code",
   "execution_count": null,
   "metadata": {},
   "outputs": [],
   "source": []
  }
 ],
 "metadata": {
  "kernelspec": {
   "display_name": "Python 3",
   "language": "python",
   "name": "python3"
  },
  "language_info": {
   "codemirror_mode": {
    "name": "ipython",
    "version": 3
   },
   "file_extension": ".py",
   "mimetype": "text/x-python",
   "name": "python",
   "nbconvert_exporter": "python",
   "pygments_lexer": "ipython3",
   "version": "3.8.8"
  }
 },
 "nbformat": 4,
 "nbformat_minor": 4
}
