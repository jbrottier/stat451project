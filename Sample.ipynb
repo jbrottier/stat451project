{
 "cells": [
  {
   "cell_type": "code",
   "execution_count": null,
   "metadata": {},
   "outputs": [
    {
     "data": {
      "text/html": [
       "<div>\n",
       "<style scoped>\n",
       "    .dataframe tbody tr th:only-of-type {\n",
       "        vertical-align: middle;\n",
       "    }\n",
       "\n",
       "    .dataframe tbody tr th {\n",
       "        vertical-align: top;\n",
       "    }\n",
       "\n",
       "    .dataframe thead th {\n",
       "        text-align: right;\n",
       "    }\n",
       "</style>\n",
       "<table border=\"1\" class=\"dataframe\">\n",
       "  <thead>\n",
       "    <tr style=\"text-align: right;\">\n",
       "      <th></th>\n",
       "      <th>ID</th>\n",
       "      <th>Diagnosis</th>\n",
       "      <th>mean_radius</th>\n",
       "      <th>mean_texture</th>\n",
       "      <th>mean_perimeter</th>\n",
       "      <th>mean_area</th>\n",
       "      <th>mean_smoothness</th>\n",
       "      <th>mean_compactness</th>\n",
       "      <th>mean_concavity</th>\n",
       "      <th>mean_concave_points</th>\n",
       "      <th>...</th>\n",
       "      <th>largest_radius</th>\n",
       "      <th>largest_texture</th>\n",
       "      <th>largest_perimeter</th>\n",
       "      <th>largest_area</th>\n",
       "      <th>largest_smoothness</th>\n",
       "      <th>largest_compactness</th>\n",
       "      <th>largest_concavity</th>\n",
       "      <th>largest_concave_points</th>\n",
       "      <th>largest_symmetry</th>\n",
       "      <th>largest_fractal_dimension</th>\n",
       "    </tr>\n",
       "  </thead>\n",
       "  <tbody>\n",
       "  </tbody>\n",
       "</table>\n",
       "<p>0 rows × 32 columns</p>\n",
       "</div>"
      ],
      "text/plain": [
       "Empty DataFrame\n",
       "Columns: [ID, Diagnosis, mean_radius, mean_texture, mean_perimeter, mean_area, mean_smoothness, mean_compactness, mean_concavity, mean_concave_points, mean_symmetry, mean_fractal_dimension, se_radius, se_texture, se_perimeter, se_area, se_smoothness, se_compactness, se_concavity, se_concave_points, se_symmetry, se_fractal_dimension, largest_radius, largest_texture, largest_perimeter, largest_area, largest_smoothness, largest_compactness, largest_concavity, largest_concave_points, largest_symmetry, largest_fractal_dimension]\n",
       "Index: []\n",
       "\n",
       "[0 rows x 32 columns]"
      ]
     },
     "execution_count": 6,
     "metadata": {},
     "output_type": "execute_result"
    }
   ],
   "source": [
    "# Importing necessary libraries\n",
    "import pandas as pd\n",
    "\n",
    "# Reading the data and adding column names\n",
    "columns = [\n",
    "    'ID', 'Diagnosis', \n",
    "    'mean_radius', 'mean_texture', 'mean_perimeter', 'mean_area', 'mean_smoothness', \n",
    "    'mean_compactness', 'mean_concavity', 'mean_concave_points', 'mean_symmetry', 'mean_fractal_dimension',\n",
    "    'se_radius', 'se_texture', 'se_perimeter', 'se_area', 'se_smoothness', \n",
    "    'se_compactness', 'se_concavity', 'se_concave_points', 'se_symmetry', 'se_fractal_dimension',\n",
    "    'largest_radius', 'largest_texture', 'largest_perimeter', 'largest_area', 'largest_smoothness', \n",
    "    'largest_compactness', 'largest_concavity', 'largest_concave_points', 'largest_symmetry', 'largest_fractal_dimension'\n",
    "]\n",
    "df = pd.read_csv('breast_cancer/wdbc.data', names = columns)\n"
   ]
  },
  {
   "cell_type": "code",
   "execution_count": 7,
   "metadata": {},
   "outputs": [
    {
     "data": {
      "text/html": [
       "<div>\n",
       "<style scoped>\n",
       "    .dataframe tbody tr th:only-of-type {\n",
       "        vertical-align: middle;\n",
       "    }\n",
       "\n",
       "    .dataframe tbody tr th {\n",
       "        vertical-align: top;\n",
       "    }\n",
       "\n",
       "    .dataframe thead th {\n",
       "        text-align: right;\n",
       "    }\n",
       "</style>\n",
       "<table border=\"1\" class=\"dataframe\">\n",
       "  <thead>\n",
       "    <tr style=\"text-align: right;\">\n",
       "      <th></th>\n",
       "      <th>ID</th>\n",
       "      <th>Diagnosis</th>\n",
       "      <th>mean_radius</th>\n",
       "      <th>mean_texture</th>\n",
       "      <th>mean_perimeter</th>\n",
       "      <th>mean_area</th>\n",
       "      <th>mean_smoothness</th>\n",
       "      <th>mean_compactness</th>\n",
       "      <th>mean_concavity</th>\n",
       "      <th>mean_concave_points</th>\n",
       "      <th>...</th>\n",
       "      <th>largest_radius</th>\n",
       "      <th>largest_texture</th>\n",
       "      <th>largest_perimeter</th>\n",
       "      <th>largest_area</th>\n",
       "      <th>largest_smoothness</th>\n",
       "      <th>largest_compactness</th>\n",
       "      <th>largest_concavity</th>\n",
       "      <th>largest_concave_points</th>\n",
       "      <th>largest_symmetry</th>\n",
       "      <th>largest_fractal_dimension</th>\n",
       "    </tr>\n",
       "  </thead>\n",
       "  <tbody>\n",
       "  </tbody>\n",
       "</table>\n",
       "<p>0 rows × 32 columns</p>\n",
       "</div>"
      ],
      "text/plain": [
       "Empty DataFrame\n",
       "Columns: [ID, Diagnosis, mean_radius, mean_texture, mean_perimeter, mean_area, mean_smoothness, mean_compactness, mean_concavity, mean_concave_points, mean_symmetry, mean_fractal_dimension, se_radius, se_texture, se_perimeter, se_area, se_smoothness, se_compactness, se_concavity, se_concave_points, se_symmetry, se_fractal_dimension, largest_radius, largest_texture, largest_perimeter, largest_area, largest_smoothness, largest_compactness, largest_concavity, largest_concave_points, largest_symmetry, largest_fractal_dimension]\n",
       "Index: []\n",
       "\n",
       "[0 rows x 32 columns]"
      ]
     },
     "execution_count": 7,
     "metadata": {},
     "output_type": "execute_result"
    }
   ],
   "source": [
    "# Checking to see if there is any missing data\n",
    "df[df.isna().any(axis=1)]"
   ]
  }
 ],
 "metadata": {
  "kernelspec": {
   "display_name": "base",
   "language": "python",
   "name": "python3"
  },
  "language_info": {
   "codemirror_mode": {
    "name": "ipython",
    "version": 3
   },
   "file_extension": ".py",
   "mimetype": "text/x-python",
   "name": "python",
   "nbconvert_exporter": "python",
   "pygments_lexer": "ipython3",
   "version": "3.12.7"
  }
 },
 "nbformat": 4,
 "nbformat_minor": 2
}
